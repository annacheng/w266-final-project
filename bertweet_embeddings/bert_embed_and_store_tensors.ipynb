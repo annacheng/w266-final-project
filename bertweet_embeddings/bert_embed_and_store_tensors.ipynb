{
 "cells": [
  {
   "cell_type": "code",
   "execution_count": 9,
   "id": "b38aee4f",
   "metadata": {},
   "outputs": [],
   "source": [
    "import torch\n",
    "from transformers import AutoModel, AutoTokenizer \n",
    "import tensorflow as tf\n",
    "from tensorflow import keras\n",
    "import numpy as np\n",
    "import pandas as pd\n",
    "from sklearn.model_selection import train_test_split"
   ]
  },
  {
   "cell_type": "code",
   "execution_count": null,
   "id": "2420ed23",
   "metadata": {},
   "outputs": [
    {
     "name": "stderr",
     "output_type": "stream",
     "text": [
      "Some weights of the model checkpoint at vinai/bertweet-base were not used when initializing RobertaModel: ['lm_head.decoder.weight', 'lm_head.decoder.bias', 'lm_head.bias', 'lm_head.dense.weight', 'lm_head.layer_norm.weight', 'lm_head.layer_norm.bias', 'lm_head.dense.bias']\n",
      "- This IS expected if you are initializing RobertaModel from the checkpoint of a model trained on another task or with another architecture (e.g. initializing a BertForSequenceClassification model from a BertForPreTraining model).\n",
      "- This IS NOT expected if you are initializing RobertaModel from the checkpoint of a model that you expect to be exactly identical (initializing a BertForSequenceClassification model from a BertForSequenceClassification model).\n"
     ]
    }
   ],
   "source": [
    "bertweet = AutoModel.from_pretrained(\"vinai/bertweet-base\")\n",
    "\n",
    "# For transformers v4.x+: \n",
    "tokenizer = AutoTokenizer.from_pretrained(\"vinai/bertweet-base\", use_fast=False, normalization=True)"
   ]
  },
  {
   "cell_type": "code",
   "execution_count": null,
   "id": "d622f666",
   "metadata": {},
   "outputs": [],
   "source": [
    "tweets = pd.read_csv('all_china_full.csv')\n",
    "tweets = tweets.dropna() # some rows come in as blank so they need to be dropped"
   ]
  },
  {
   "cell_type": "code",
   "execution_count": null,
   "id": "dbe5dc9b",
   "metadata": {},
   "outputs": [],
   "source": [
    "def batch_tokenize_and_embed(tweets, batch_size = 5):\n",
    "    \n",
    "    embeddings = torch.Tensor()\n",
    "    \n",
    "    for i in range(0, len(tweets), batch_size):\n",
    "        batch = tweets[i : min(len(tweets), i+batch_size)]\n",
    "        print(\"Processing chunk \" + str(i) + \" to \" + str(i + len(batch)))\n",
    "        \n",
    "        tokens = tokenizer(batch, padding='max_length', max_length=130, return_tensors=\"pt\")\n",
    "        \n",
    "        with torch.no_grad():\n",
    "            outputs = bertweet(**tokens)\n",
    "    \n",
    "        embeddings = torch.cat((embeddings, outputs.pooler_output)) #pooler_output is an embedding for the entire tweet\n",
    "        \n",
    "    return embeddings"
   ]
  },
  {
   "cell_type": "code",
   "execution_count": null,
   "id": "8fc37283",
   "metadata": {},
   "outputs": [],
   "source": [
    "def embed_and_store(tweets, chunk_size=1000):\n",
    "    \n",
    "    for i in range(0, len(tweets), chunk_size):\n",
    "        batch = tweets[i : min(len(tweets), i+chunk_size)]\n",
    "        filename = \"embeddings/all_china_embedding_\" + str(i) + \".pt\"\n",
    "        torch.save(batch_tokenize_and_embed(batch), filename)"
   ]
  },
  {
   "cell_type": "code",
   "execution_count": null,
   "id": "690a041d",
   "metadata": {},
   "outputs": [],
   "source": [
    "embed_and_store(list(tweets.text))"
   ]
  }
 ],
 "metadata": {
  "kernelspec": {
   "display_name": "Python 3",
   "language": "python",
   "name": "python3"
  },
  "language_info": {
   "codemirror_mode": {
    "name": "ipython",
    "version": 3
   },
   "file_extension": ".py",
   "mimetype": "text/x-python",
   "name": "python",
   "nbconvert_exporter": "python",
   "pygments_lexer": "ipython3",
   "version": "3.8.8"
  }
 },
 "nbformat": 4,
 "nbformat_minor": 5
}
