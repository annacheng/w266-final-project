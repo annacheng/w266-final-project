{
 "cells": [
  {
   "cell_type": "code",
   "execution_count": 1,
   "id": "b772a2bb",
   "metadata": {},
   "outputs": [],
   "source": [
    "import json\n",
    "import pandas as pd\n",
    "import tweepy\n",
    "\n",
    "import time"
   ]
  },
  {
   "cell_type": "code",
   "execution_count": 2,
   "id": "1b793fd6",
   "metadata": {},
   "outputs": [],
   "source": [
    "with open(\"twitter_credentials.json\", \"r\") as file:\n",
    "    data = file.read()\n",
    "    \n",
    "credentials = json.loads(data)\n",
    "client = tweepy.Client(bearer_token=credentials[\"BEARER_TOKEN\"])"
   ]
  },
  {
   "cell_type": "code",
   "execution_count": 3,
   "id": "f3d9f9f5",
   "metadata": {},
   "outputs": [],
   "source": [
    "seed_account = 'BenjaminNorton'\n",
    "seed = client.get_user(username = seed_account)"
   ]
  },
  {
   "cell_type": "code",
   "execution_count": 10,
   "id": "a0b35f0a",
   "metadata": {},
   "outputs": [],
   "source": [
    "def get_following(client, user_ids):\n",
    "    following_list = []\n",
    "    \n",
    "    for user_id in user_ids:\n",
    "        try:\n",
    "            f = client.get_users_following(user_id, max_results = 1000).data\n",
    "            if f:\n",
    "                following_list.extend(f) # for more than 1000 results return, need to use pagination token\n",
    "        except tweepy.TweepyException:\n",
    "            print(str(user_id) + \"error fetching following list\")\n",
    "            continue\n",
    "            \n",
    "    return following_list"
   ]
  },
  {
   "cell_type": "code",
   "execution_count": 77,
   "id": "d333f0a4",
   "metadata": {},
   "outputs": [],
   "source": [
    "f = get_following(client, [seed.data.id])"
   ]
  },
  {
   "cell_type": "code",
   "execution_count": 85,
   "id": "2e8e911e",
   "metadata": {},
   "outputs": [],
   "source": [
    "following_graph = pd.DataFrame(columns=['source','target'])\n",
    "\n",
    "following_graph['target'] = [user.id for user in f]\n",
    "following_graph['source'] = seed.data.id"
   ]
  },
  {
   "cell_type": "code",
   "execution_count": 86,
   "id": "922367cc",
   "metadata": {},
   "outputs": [
    {
     "data": {
      "text/html": [
       "<div>\n",
       "<style scoped>\n",
       "    .dataframe tbody tr th:only-of-type {\n",
       "        vertical-align: middle;\n",
       "    }\n",
       "\n",
       "    .dataframe tbody tr th {\n",
       "        vertical-align: top;\n",
       "    }\n",
       "\n",
       "    .dataframe thead th {\n",
       "        text-align: right;\n",
       "    }\n",
       "</style>\n",
       "<table border=\"1\" class=\"dataframe\">\n",
       "  <thead>\n",
       "    <tr style=\"text-align: right;\">\n",
       "      <th></th>\n",
       "      <th>source</th>\n",
       "      <th>target</th>\n",
       "    </tr>\n",
       "  </thead>\n",
       "  <tbody>\n",
       "    <tr>\n",
       "      <th>0</th>\n",
       "      <td>852269288</td>\n",
       "      <td>1116129122</td>\n",
       "    </tr>\n",
       "    <tr>\n",
       "      <th>1</th>\n",
       "      <td>852269288</td>\n",
       "      <td>192547775</td>\n",
       "    </tr>\n",
       "    <tr>\n",
       "      <th>2</th>\n",
       "      <td>852269288</td>\n",
       "      <td>1295505639926640641</td>\n",
       "    </tr>\n",
       "    <tr>\n",
       "      <th>3</th>\n",
       "      <td>852269288</td>\n",
       "      <td>1167697135359287296</td>\n",
       "    </tr>\n",
       "    <tr>\n",
       "      <th>4</th>\n",
       "      <td>852269288</td>\n",
       "      <td>50134348</td>\n",
       "    </tr>\n",
       "    <tr>\n",
       "      <th>...</th>\n",
       "      <td>...</td>\n",
       "      <td>...</td>\n",
       "    </tr>\n",
       "    <tr>\n",
       "      <th>569</th>\n",
       "      <td>852269288</td>\n",
       "      <td>20295264</td>\n",
       "    </tr>\n",
       "    <tr>\n",
       "      <th>570</th>\n",
       "      <td>852269288</td>\n",
       "      <td>1051979395</td>\n",
       "    </tr>\n",
       "    <tr>\n",
       "      <th>571</th>\n",
       "      <td>852269288</td>\n",
       "      <td>37501003</td>\n",
       "    </tr>\n",
       "    <tr>\n",
       "      <th>572</th>\n",
       "      <td>852269288</td>\n",
       "      <td>15721256</td>\n",
       "    </tr>\n",
       "    <tr>\n",
       "      <th>573</th>\n",
       "      <td>852269288</td>\n",
       "      <td>21978839</td>\n",
       "    </tr>\n",
       "  </tbody>\n",
       "</table>\n",
       "<p>574 rows × 2 columns</p>\n",
       "</div>"
      ],
      "text/plain": [
       "        source               target\n",
       "0    852269288           1116129122\n",
       "1    852269288            192547775\n",
       "2    852269288  1295505639926640641\n",
       "3    852269288  1167697135359287296\n",
       "4    852269288             50134348\n",
       "..         ...                  ...\n",
       "569  852269288             20295264\n",
       "570  852269288           1051979395\n",
       "571  852269288             37501003\n",
       "572  852269288             15721256\n",
       "573  852269288             21978839\n",
       "\n",
       "[574 rows x 2 columns]"
      ]
     },
     "execution_count": 86,
     "metadata": {},
     "output_type": "execute_result"
    }
   ],
   "source": [
    "following_graph"
   ]
  },
  {
   "cell_type": "code",
   "execution_count": 87,
   "id": "0c2fb675",
   "metadata": {},
   "outputs": [
    {
     "name": "stdout",
     "output_type": "stream",
     "text": [
      "1116129122 added\n",
      "192547775 added\n",
      "1295505639926640641 added\n",
      "1167697135359287296 added\n",
      "50134348 added\n",
      "139049986 added\n",
      "189365211 added\n",
      "1207282997000577024 added\n",
      "83552557 added\n",
      "23047519 added\n",
      "772368400035278848 added\n",
      "18000989 added\n",
      "1212564056827031553 added\n",
      "1345884115346870272 added\n",
      "961925545809281024 added\n",
      "100731315 added\n",
      "85975725 added\n",
      "1321552596486807552 added\n"
     ]
    },
    {
     "ename": "KeyboardInterrupt",
     "evalue": "",
     "output_type": "error",
     "traceback": [
      "\u001b[0;31m---------------------------------------------------------------------------\u001b[0m",
      "\u001b[0;31mKeyboardInterrupt\u001b[0m                         Traceback (most recent call last)",
      "\u001b[0;32m<ipython-input-87-cbdb798aab4b>\u001b[0m in \u001b[0;36m<module>\u001b[0;34m\u001b[0m\n\u001b[1;32m     12\u001b[0m     \u001b[0mprint\u001b[0m\u001b[0;34m(\u001b[0m\u001b[0mstr\u001b[0m\u001b[0;34m(\u001b[0m\u001b[0muser\u001b[0m\u001b[0;34m)\u001b[0m \u001b[0;34m+\u001b[0m \u001b[0;34m\" added\"\u001b[0m\u001b[0;34m)\u001b[0m\u001b[0;34m\u001b[0m\u001b[0;34m\u001b[0m\u001b[0m\n\u001b[1;32m     13\u001b[0m \u001b[0;34m\u001b[0m\u001b[0m\n\u001b[0;32m---> 14\u001b[0;31m     \u001b[0mtime\u001b[0m\u001b[0;34m.\u001b[0m\u001b[0msleep\u001b[0m\u001b[0;34m(\u001b[0m\u001b[0;36m60\u001b[0m\u001b[0;34m)\u001b[0m\u001b[0;34m\u001b[0m\u001b[0;34m\u001b[0m\u001b[0m\n\u001b[0m",
      "\u001b[0;31mKeyboardInterrupt\u001b[0m: "
     ]
    }
   ],
   "source": [
    "starting_users = following_graph['target']\n",
    "\n",
    "for user in starting_users:\n",
    "    following = get_following(client, [user])\n",
    "    \n",
    "    temp = pd.DataFrame(columns=['source','target'])\n",
    "    temp['target'] = [f.id for f in following]\n",
    "    temp['source'] = user\n",
    "    \n",
    "    following_graph = following_graph.append(temp)\n",
    "    following_graph.to_csv('following_list.csv', index=False)\n",
    "    print(str(user) + \" added\")\n",
    "    \n",
    "    time.sleep(60)"
   ]
  },
  {
   "cell_type": "markdown",
   "id": "bb2db4bd",
   "metadata": {},
   "source": [
    "## Building Network from Nodes"
   ]
  },
  {
   "cell_type": "code",
   "execution_count": 12,
   "id": "04ed8aa4",
   "metadata": {},
   "outputs": [
    {
     "name": "stdout",
     "output_type": "stream",
     "text": [
      "Requirement already satisfied: networkx in /home/jacobbarkow/anaconda3/lib/python3.8/site-packages (2.5)\n",
      "Requirement already satisfied: decorator>=4.3.0 in /home/jacobbarkow/anaconda3/lib/python3.8/site-packages (from networkx) (5.0.6)\n",
      "\u001b[33mWARNING: You are using pip version 21.3.1; however, version 22.0.2 is available.\n",
      "You should consider upgrading via the '/home/jacobbarkow/anaconda3/bin/python -m pip install --upgrade pip' command.\u001b[0m\n"
     ]
    }
   ],
   "source": [
    "!pip install networkx"
   ]
  },
  {
   "cell_type": "code",
   "execution_count": 3,
   "id": "1aedaa5e",
   "metadata": {},
   "outputs": [],
   "source": [
    "import networkx as nx"
   ]
  },
  {
   "cell_type": "code",
   "execution_count": 10,
   "id": "3dd9f221",
   "metadata": {},
   "outputs": [],
   "source": [
    "df = pd.read_csv('following_list.csv')\n",
    "G = nx.from_pandas_edgelist(df, 'source', 'target')"
   ]
  },
  {
   "cell_type": "code",
   "execution_count": 11,
   "id": "599762c0",
   "metadata": {},
   "outputs": [
    {
     "data": {
      "text/plain": [
       "74379"
      ]
     },
     "execution_count": 11,
     "metadata": {},
     "output_type": "execute_result"
    }
   ],
   "source": [
    "G.number_of_nodes()"
   ]
  },
  {
   "cell_type": "code",
   "execution_count": 18,
   "id": "6a78713e",
   "metadata": {},
   "outputs": [],
   "source": [
    "# finding most central nodes\n",
    "\n",
    "G_sorted = pd.DataFrame(sorted(G.degree, key=lambda x: x[1], reverse=True))\n",
    "G_sorted.columns = ['nconst','degree']\n",
    "top_central = G_sorted.head(20)"
   ]
  },
  {
   "cell_type": "code",
   "execution_count": 19,
   "id": "5b58810d",
   "metadata": {},
   "outputs": [],
   "source": [
    "pd.options.mode.chained_assignment = None  # default='warn'\n",
    "\n",
    "top_central['username'] = top_central.apply(lambda row: client.get_user(id = int(row.nconst)).data.username, axis = 1)\n",
    "top_central['url'] = top_central.apply(lambda row: \"https://twitter.com/\" + str(row.username), axis = 1)"
   ]
  },
  {
   "cell_type": "code",
   "execution_count": 20,
   "id": "77a10f8e",
   "metadata": {},
   "outputs": [
    {
     "name": "stdout",
     "output_type": "stream",
     "text": [
      "          nconst  degree         username                                  url\n",
      "0   5.608160e+08    1038   XiomaraCastroZ   https://twitter.com/XiomaraCastroZ\n",
      "1   5.017718e+08    1029   danielmkovalik   https://twitter.com/danielmkovalik\n",
      "2   3.188097e+09    1025     queeralamode     https://twitter.com/queeralamode\n",
      "3   3.691263e+07    1022  agent_of_change  https://twitter.com/agent_of_change\n",
      "4   7.133425e+17    1020     CarlosJRonVE     https://twitter.com/CarlosJRonVE\n",
      "5   5.879555e+08    1018      shen_shiwei      https://twitter.com/shen_shiwei\n",
      "6   1.101833e+08    1018   DanielDumbrill   https://twitter.com/DanielDumbrill\n",
      "7   4.773062e+09    1017    ANTICONQUISTA    https://twitter.com/ANTICONQUISTA\n",
      "8   1.427325e+08    1016   PlasenciaFelix   https://twitter.com/PlasenciaFelix\n",
      "9   1.167697e+18    1015  ClaudiaJonesEdu  https://twitter.com/ClaudiaJonesEdu\n",
      "10  8.114150e+17    1015  PeoplesParty_US  https://twitter.com/PeoplesParty_US\n",
      "11  1.094276e+18    1014         AssalRad         https://twitter.com/AssalRad\n",
      "12  5.022368e+07    1014      calebmaupin      https://twitter.com/calebmaupin\n",
      "13  4.550091e+07    1014      Fiorella_im      https://twitter.com/Fiorella_im\n",
      "14  2.673059e+08    1013    canto_general    https://twitter.com/canto_general\n",
      "15  2.949655e+08    1013        ZoPepperC        https://twitter.com/ZoPepperC\n",
      "16  2.251413e+08    1013    ProgresaLatam    https://twitter.com/ProgresaLatam\n",
      "17  3.315093e+09    1012     PrimoRadical     https://twitter.com/PrimoRadical\n",
      "18  3.877253e+08    1011  FlorenciaLagosN  https://twitter.com/FlorenciaLagosN\n",
      "19  1.320957e+07    1011     MsJodieEvans     https://twitter.com/MsJodieEvans\n"
     ]
    }
   ],
   "source": [
    "def make_clickable(val):\n",
    "    # target _blank to open new window\n",
    "    return '<a target=\"_blank\" href=\"{}\">{}</a>'.format(val, val)\n",
    "\n",
    "top_central.style.format({'url': make_clickable})\n",
    "\n",
    "print(top_central)"
   ]
  }
 ],
 "metadata": {
  "kernelspec": {
   "display_name": "Python 3",
   "language": "python",
   "name": "python3"
  },
  "language_info": {
   "codemirror_mode": {
    "name": "ipython",
    "version": 3
   },
   "file_extension": ".py",
   "mimetype": "text/x-python",
   "name": "python",
   "nbconvert_exporter": "python",
   "pygments_lexer": "ipython3",
   "version": "3.8.8"
  }
 },
 "nbformat": 4,
 "nbformat_minor": 5
}
